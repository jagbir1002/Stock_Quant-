{
 "cells": [
  {
   "cell_type": "code",
   "execution_count": 7,
   "id": "f5670fbc",
   "metadata": {},
   "outputs": [],
   "source": [
    "import pandas as pd\n",
    "import numpy as np\n",
    "import os"
   ]
  },
  {
   "cell_type": "code",
   "execution_count": 8,
   "id": "e470f766",
   "metadata": {},
   "outputs": [],
   "source": [
    "\n",
    "file_path = r\"C:\\Users\\surji\\Desktop\\Quant_Poject\\Perfomance_metrics\\data\\pe_ratio_rolling_analysis.csv\"\n",
    "df = pd.read_csv(file_path, parse_dates=['Date'])\n",
    "initial_capital = 100_000\n",
    "tickers = df['TickerName'].unique()\n",
    "rolling_windows = df['RollingWindow'].unique()\n",
    "\n"
   ]
  },
  {
   "cell_type": "markdown",
   "id": "27b307c1",
   "metadata": {},
   "source": [
    "Calculation of MDD and Sharpe Ratio "
   ]
  },
  {
   "cell_type": "code",
   "execution_count": null,
   "id": "3127486a",
   "metadata": {},
   "outputs": [],
   "source": [
    "\n",
    "def calculate_max_drawdown(cum_returns):\n",
    "    running_max = np.maximum.accumulate(cum_returns)\n",
    "    drawdown = (cum_returns - running_max) / running_max\n",
    "    max_drawdown = drawdown.min()\n",
    "    return max_drawdown\n",
    "\n",
    "def calculate_sharpe_ratio(returns, risk_free_rate=0, periods_per_year=252):\n",
    "    excess_returns = returns - risk_free_rate/periods_per_year\n",
    "    if returns.std() == 0:\n",
    "        return 0\n",
    "    sharpe = np.sqrt(periods_per_year) * excess_returns.mean() / returns.std()\n",
    "    return sharpe\n"
   ]
  },
  {
   "cell_type": "code",
   "execution_count": 10,
   "id": "a8265bd6",
   "metadata": {},
   "outputs": [],
   "source": [
    "\n",
    "results = []\n",
    "\n",
    "for window in rolling_windows:\n",
    "    for ticker in tickers:\n",
    "        temp = df[(df['TickerName'] == ticker) & (df['RollingWindow'] == window)].copy()\n",
    "        temp = temp.sort_values('Date').reset_index(drop=True)\n",
    "\n",
    "        temp['Return'] = temp['StockPrice'].pct_change().fillna(0)\n",
    "        temp['Position'] = 0\n",
    "        holding = False\n",
    "\n",
    "        for i in range(1, len(temp)):\n",
    "            if temp.loc[i-1, 'Signal'] == 1:\n",
    "                holding = True\n",
    "            elif temp.loc[i-1, 'Signal'] == -1:\n",
    "                holding = False\n",
    "            temp.loc[i, 'Position'] = 1 if holding else 0\n",
    "\n",
    "        temp['Strategy_Return'] = temp['Return'] * temp['Position']\n",
    "        temp['Cumulative_Market'] = (1 + temp['Return']).cumprod()\n",
    "        temp['Cumulative_Strategy'] = (1 + temp['Strategy_Return']).cumprod()\n",
    "\n",
    "\n",
    "        roi = temp['Cumulative_Strategy'].iloc[-1] - 1  # Total return\n",
    "        max_dd = calculate_max_drawdown(temp['Cumulative_Strategy'].values)\n",
    "        sharpe = calculate_sharpe_ratio(temp['Strategy_Return'].values)\n",
    "        roi_to_mdd = roi / abs(max_dd) if max_dd != 0 else np.nan\n",
    "\n",
    "        results.append({\n",
    "            'TickerName': ticker,\n",
    "            'RollingWindow': window,\n",
    "            'ROI': roi,\n",
    "            'MaxDrawdown': max_dd,\n",
    "            'SharpeRatio': sharpe,\n",
    "            'ROI_to_MDD': roi_to_mdd\n",
    "        })\n"
   ]
  },
  {
   "cell_type": "code",
   "execution_count": 15,
   "id": "06b4712c",
   "metadata": {},
   "outputs": [
    {
     "name": "stdout",
     "output_type": "stream",
     "text": [
      "Backtesting complete. Results are also saved in the experiment tarcking file\n",
      "\n",
      "  TickerName  RollingWindow       ROI  MaxDrawdown  SharpeRatio  ROI_to_MDD\n",
      "0       AAPL             20  2.439628    -0.395730     3.887596    6.164883\n",
      "1      GOOGL             20  7.225410    -0.390930     5.903248   18.482623\n",
      "2       META             20  3.763979    -0.653914     4.138042    5.756077\n",
      "3       MSFT             20  1.234127    -0.070856     4.086974   17.417498\n",
      "4       TSLA             20  0.000000     0.000000     0.000000         NaN\n"
     ]
    }
   ],
   "source": [
    "results_df = pd.DataFrame(results)\n",
    "\n",
    "folder_path = r\"C:\\Users\\surji\\Desktop\\Quant_Poject\\Perfomance_metrics\\data\"\n",
    "file_name = \"experiment_tracking.csv\"\n",
    "full_path = os.path.join(folder_path, file_name)\n",
    "\n",
    "results_df.to_csv(full_path, index=False)\n",
    "print(f\"Backtesting complete. Results are also saved in the experiment tarcking file\\n\")\n",
    "print(results_df.head())\n"
   ]
  },
  {
   "cell_type": "markdown",
   "id": "61a67b4a",
   "metadata": {},
   "source": [
    "This is just for reference to see what signals are getting generated and from what date "
   ]
  },
  {
   "cell_type": "code",
   "execution_count": 12,
   "id": "550ba9cb",
   "metadata": {},
   "outputs": [
    {
     "name": "stdout",
     "output_type": "stream",
     "text": [
      "         Date  Signal\n",
      "29 2018-06-30       0\n",
      "30 2018-09-30       0\n",
      "31 2018-12-31       0\n",
      "32 2019-03-31       0\n",
      "33 2019-06-30       0\n",
      "34 2019-09-30       0\n",
      "35 2019-12-31       0\n",
      "36 2020-03-31       0\n",
      "37 2020-06-30      -1\n",
      "38 2020-09-30      -1\n",
      "39 2020-12-31      -1\n",
      "40 2021-03-31      -1\n",
      "41 2021-06-30      -1\n",
      "42 2021-09-30       0\n",
      "43 2021-12-31       0\n",
      "44 2022-03-31       0\n",
      "45 2022-06-30       0\n",
      "46 2022-09-30       0\n",
      "47 2022-12-31       0\n",
      "48 2023-03-31       0\n",
      "49 2023-06-30       0\n",
      "50 2023-09-30       0\n",
      "51 2023-12-31       0\n",
      "52 2024-03-31       0\n",
      "53 2024-06-30       0\n",
      "54 2024-09-30       0\n",
      "55 2024-12-31       0\n",
      "56 2025-03-31       0\n",
      "57 2025-06-30       0\n",
      "58 2025-07-25       0\n"
     ]
    }
   ],
   "source": [
    "print(temp[['Date', 'Signal']].tail(30))  # Check recent signal values\n"
   ]
  },
  {
   "cell_type": "markdown",
   "id": "841673bb",
   "metadata": {},
   "source": [
    "This is classfication of the buy signals and sell signals "
   ]
  },
  {
   "cell_type": "code",
   "execution_count": 13,
   "id": "3f8c8c12",
   "metadata": {},
   "outputs": [
    {
     "name": "stdout",
     "output_type": "stream",
     "text": [
      "Buy signals:\n",
      " Series([], Name: Date, dtype: datetime64[ns])\n",
      "Sell signals:\n",
      " 37   2020-06-30\n",
      "38   2020-09-30\n",
      "39   2020-12-31\n",
      "40   2021-03-31\n",
      "41   2021-06-30\n",
      "Name: Date, dtype: datetime64[ns]\n"
     ]
    }
   ],
   "source": [
    "entry_dates = temp[temp['Signal'] == 1]['Date']\n",
    "exit_dates = temp[temp['Signal'] == -1]['Date']\n",
    "print(\"Buy signals:\\n\", entry_dates)\n",
    "print(\"Sell signals:\\n\", exit_dates)\n"
   ]
  }
 ],
 "metadata": {
  "kernelspec": {
   "display_name": "peratio",
   "language": "python",
   "name": "python3"
  },
  "language_info": {
   "codemirror_mode": {
    "name": "ipython",
    "version": 3
   },
   "file_extension": ".py",
   "mimetype": "text/x-python",
   "name": "python",
   "nbconvert_exporter": "python",
   "pygments_lexer": "ipython3",
   "version": "3.12.11"
  }
 },
 "nbformat": 4,
 "nbformat_minor": 5
}
