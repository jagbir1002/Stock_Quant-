{
 "cells": [
  {
   "cell_type": "code",
   "execution_count": 68,
   "id": "23bf1a9a",
   "metadata": {},
   "outputs": [],
   "source": [
    "import pandas as pd"
   ]
  },
  {
   "cell_type": "code",
   "execution_count": 69,
   "id": "60827ca9",
   "metadata": {},
   "outputs": [],
   "source": [
    "pe_file = r\"C:\\Users\\surji\\Desktop\\Quant_Poject\\Perfomance_metrics\\data\\pe_ratio_data.csv\"\n",
    "pb_file = r\"C:\\Users\\surji\\Desktop\\Quant_Poject\\Perfomance_metrics\\data\\pb_ratio_data.csv\"\n",
    "\n",
    "df_pe = pd.read_csv(pe_file, parse_dates=['Date'])\n",
    "df_pb = pd.read_csv(pb_file, parse_dates=['Date'])\n",
    "\n",
    "df_pe = df_pe.sort_values(['TickerName', 'Date']).reset_index(drop=True)\n",
    "df_pb = df_pb.sort_values(['TickerName', 'Date']).reset_index(drop=True)\n",
    "\n",
    "df = pd.merge(df_pe, df_pb, on=['Date', 'TickerName'], how='inner')\n"
   ]
  },
  {
   "cell_type": "markdown",
   "id": "f13b5797",
   "metadata": {},
   "source": [
    "Rolling windows that I am testing for are [20, 60, 120, 180, 250, 500]\n"
   ]
  },
  {
   "cell_type": "code",
   "execution_count": 70,
   "id": "e0cf458f",
   "metadata": {},
   "outputs": [],
   "source": [
    "\n",
    "tickers = df['TickerName'].unique()\n",
    "rolling_windows = [20, 60, 120, 180, 250, 500]\n",
    "\n"
   ]
  },
  {
   "cell_type": "markdown",
   "id": "56351f7b",
   "metadata": {},
   "source": [
    "Changes that I made:\n",
    "1. Earlier, the thresholds were strict; I made them more flexible by adding an epsilon buffer.\n",
    "2. The epsilon provides flexibility in the code, especially for stocks like NVDA, whose PE and PB ratios are consistently high.\n",
    "3. Even if the PE ratio is slightly above the 10th percentile, the code now still generates a signal, which earlier did not happen due to the strict threshold.\n",
    "4. Thus, this adjustment helps to generate more signals and reduces missed opportunities caused by minor fluctuations around the thresholds."
   ]
  },
  {
   "cell_type": "code",
   "execution_count": 71,
   "id": "56b8a918",
   "metadata": {},
   "outputs": [],
   "source": [
    "\n",
    "epsilon = 5.0 "
   ]
  },
  {
   "cell_type": "code",
   "execution_count": 72,
   "id": "284e3eab",
   "metadata": {},
   "outputs": [
    {
     "name": "stdout",
     "output_type": "stream",
     "text": [
      "Processing rolling window: 20\n",
      "Processing rolling window: 60\n",
      "Processing rolling window: 120\n",
      "Processing rolling window: 180\n",
      "Processing rolling window: 250\n",
      "Processing rolling window: 500\n"
     ]
    }
   ],
   "source": [
    "experiment_results=[]\n",
    "\n",
    "for window in rolling_windows:\n",
    "    print(f\"Processing rolling window: {window}\")\n",
    "    \n",
    "    df_window = df.copy()\n",
    "\n",
    "    df_window['Rolling_P10_PE'] = df_window.groupby('TickerName')['PE'].transform(\n",
    "        lambda x: x.rolling(window=window, min_periods=5).quantile(0.10)\n",
    "    )\n",
    "    df_window['Rolling_P90_PE'] = df_window.groupby('TickerName')['PE'].transform(\n",
    "        lambda x: x.rolling(window=window, min_periods=5).quantile(0.90)\n",
    "    )\n",
    "\n",
    "    df_window['Rolling_P10_PB'] = df_window.groupby('TickerName')['PB'].transform(\n",
    "        lambda x: x.rolling(window=window, min_periods=5).quantile(0.10)\n",
    "    )\n",
    "    df_window['Rolling_P90_PB'] = df_window.groupby('TickerName')['PB'].transform(\n",
    "        lambda x: x.rolling(window=window, min_periods=5).quantile(0.90)\n",
    "    )\n",
    "    \n",
    "    df_window['Signal'] = 0\n",
    "    df_window.loc[\n",
    "        (df_window['PE'] < df_window['Rolling_P10_PE']+ epsilon) |\n",
    "        (df_window['PB'] < df_window['Rolling_P10_PB']+ epsilon),\n",
    "        'Signal'\n",
    "    ] = 1\n",
    "\n",
    "    df_window.loc[\n",
    "        (df_window['PE'] > df_window['Rolling_P90_PE']+epsilon) |\n",
    "        (df_window['PB'] > df_window['Rolling_P90_PB']+epsilon),\n",
    "        'Signal'\n",
    "    ] = -1 \n",
    "\n",
    "    df_window['RollingWindow'] = window\n",
    "    experiment_results.append(df_window)\n"
   ]
  },
  {
   "cell_type": "code",
   "execution_count": 73,
   "id": "e718bec1",
   "metadata": {},
   "outputs": [
    {
     "name": "stdout",
     "output_type": "stream",
     "text": [
      "NVDA Signals:\n",
      " Signal\n",
      " 1    22\n",
      "-1    22\n",
      " 0    20\n",
      "Name: count, dtype: int64\n",
      "Tesla Signals:\n",
      " Signal\n",
      " 1    40\n",
      " 0    13\n",
      "-1     6\n",
      "Name: count, dtype: int64\n"
     ]
    }
   ],
   "source": [
    "\n",
    "nvda_signals = df_window[df_window['TickerName'] == 'NVDA']['Signal'].value_counts()\n",
    "tsla_signals = df_window[df_window['TickerName'] == 'TSLA']['Signal'].value_counts()\n",
    "\n",
    "\n",
    "\n",
    "print(\"NVDA Signals:\\n\", nvda_signals)\n",
    "print(\"Tesla Signals:\\n\", tsla_signals)\n",
    "\n"
   ]
  },
  {
   "cell_type": "code",
   "execution_count": 74,
   "id": "ee231fca",
   "metadata": {},
   "outputs": [
    {
     "name": "stdout",
     "output_type": "stream",
     "text": [
      "PE + PB rolling analysis file saved\n",
      "File created for PE + PB experiment tracking\n"
     ]
    }
   ],
   "source": [
    "\n",
    "df_combined = pd.concat(experiment_results, ignore_index=True)\n",
    "\n",
    "df_combined.to_csv(\"analysis_data/pe_pb_ratio_rolling_analysis.csv\", index=False)\n",
    "print(\"PE + PB rolling analysis file saved\")\n",
    "\n",
    "experiment_tracking = pd.DataFrame(columns=[\n",
    "    'TickerName', 'RollingWindow', 'ROI', 'MaxDrawdown', 'SharpeRatio', 'ROI_to_MDD'\n",
    "])\n",
    "experiment_tracking.to_csv(\"analysis_data/experiment_tracking_pe_pb.csv\", index=False)\n",
    "print(\"File created for PE + PB experiment tracking\")"
   ]
  }
 ],
 "metadata": {
  "kernelspec": {
   "display_name": "peratio",
   "language": "python",
   "name": "python3"
  },
  "language_info": {
   "codemirror_mode": {
    "name": "ipython",
    "version": 3
   },
   "file_extension": ".py",
   "mimetype": "text/x-python",
   "name": "python",
   "nbconvert_exporter": "python",
   "pygments_lexer": "ipython3",
   "version": "3.12.11"
  }
 },
 "nbformat": 4,
 "nbformat_minor": 5
}
