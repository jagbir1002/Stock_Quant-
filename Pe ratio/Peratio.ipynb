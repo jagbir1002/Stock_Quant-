{
 "cells": [
  {
   "cell_type": "markdown",
   "id": "77f65b3e",
   "metadata": {},
   "source": [
    "NOTE THIS FILE ('Peratio.ipynb') IS JUST A TRIAL TO CHECK WEATHER YFINACE CAN PROVIDE ME THE HISTORICAL DATA OR NOT."
   ]
  },
  {
   "cell_type": "code",
   "execution_count": null,
   "id": "786bb15d",
   "metadata": {},
   "outputs": [],
   "source": [
    "import yfinance as yf"
   ]
  },
  {
   "cell_type": "code",
   "execution_count": 2,
   "id": "a19f233e",
   "metadata": {},
   "outputs": [
    {
     "name": "stderr",
     "output_type": "stream",
     "text": [
      "C:\\Users\\surji\\AppData\\Local\\Temp\\ipykernel_27208\\3723922090.py:1: FutureWarning: YF.download() has changed argument auto_adjust default to True\n",
      "  yf.download(['AAPL'],start='2020-01-01',end='2021-01-01')\n",
      "[*********************100%***********************]  1 of 1 completed\n"
     ]
    },
    {
     "data": {
      "text/html": [
       "<div>\n",
       "<style scoped>\n",
       "    .dataframe tbody tr th:only-of-type {\n",
       "        vertical-align: middle;\n",
       "    }\n",
       "\n",
       "    .dataframe tbody tr th {\n",
       "        vertical-align: top;\n",
       "    }\n",
       "\n",
       "    .dataframe thead tr th {\n",
       "        text-align: left;\n",
       "    }\n",
       "\n",
       "    .dataframe thead tr:last-of-type th {\n",
       "        text-align: right;\n",
       "    }\n",
       "</style>\n",
       "<table border=\"1\" class=\"dataframe\">\n",
       "  <thead>\n",
       "    <tr>\n",
       "      <th>Price</th>\n",
       "      <th>Close</th>\n",
       "      <th>High</th>\n",
       "      <th>Low</th>\n",
       "      <th>Open</th>\n",
       "      <th>Volume</th>\n",
       "    </tr>\n",
       "    <tr>\n",
       "      <th>Ticker</th>\n",
       "      <th>AAPL</th>\n",
       "      <th>AAPL</th>\n",
       "      <th>AAPL</th>\n",
       "      <th>AAPL</th>\n",
       "      <th>AAPL</th>\n",
       "    </tr>\n",
       "    <tr>\n",
       "      <th>Date</th>\n",
       "      <th></th>\n",
       "      <th></th>\n",
       "      <th></th>\n",
       "      <th></th>\n",
       "      <th></th>\n",
       "    </tr>\n",
       "  </thead>\n",
       "  <tbody>\n",
       "    <tr>\n",
       "      <th>2020-01-02</th>\n",
       "      <td>72.620827</td>\n",
       "      <td>72.681274</td>\n",
       "      <td>71.373203</td>\n",
       "      <td>71.627077</td>\n",
       "      <td>135480400</td>\n",
       "    </tr>\n",
       "    <tr>\n",
       "      <th>2020-01-03</th>\n",
       "      <td>71.914825</td>\n",
       "      <td>72.676454</td>\n",
       "      <td>71.689965</td>\n",
       "      <td>71.847125</td>\n",
       "      <td>146322800</td>\n",
       "    </tr>\n",
       "    <tr>\n",
       "      <th>2020-01-06</th>\n",
       "      <td>72.487839</td>\n",
       "      <td>72.526526</td>\n",
       "      <td>70.783241</td>\n",
       "      <td>71.034702</td>\n",
       "      <td>118387200</td>\n",
       "    </tr>\n",
       "    <tr>\n",
       "      <th>2020-01-07</th>\n",
       "      <td>72.146942</td>\n",
       "      <td>72.753823</td>\n",
       "      <td>71.926915</td>\n",
       "      <td>72.497529</td>\n",
       "      <td>108872000</td>\n",
       "    </tr>\n",
       "    <tr>\n",
       "      <th>2020-01-08</th>\n",
       "      <td>73.307518</td>\n",
       "      <td>73.609752</td>\n",
       "      <td>71.849540</td>\n",
       "      <td>71.849540</td>\n",
       "      <td>132079200</td>\n",
       "    </tr>\n",
       "    <tr>\n",
       "      <th>...</th>\n",
       "      <td>...</td>\n",
       "      <td>...</td>\n",
       "      <td>...</td>\n",
       "      <td>...</td>\n",
       "      <td>...</td>\n",
       "    </tr>\n",
       "    <tr>\n",
       "      <th>2020-12-24</th>\n",
       "      <td>128.736969</td>\n",
       "      <td>130.190472</td>\n",
       "      <td>127.888287</td>\n",
       "      <td>128.102899</td>\n",
       "      <td>54930100</td>\n",
       "    </tr>\n",
       "    <tr>\n",
       "      <th>2020-12-28</th>\n",
       "      <td>133.341370</td>\n",
       "      <td>133.975440</td>\n",
       "      <td>130.239266</td>\n",
       "      <td>130.707517</td>\n",
       "      <td>124486200</td>\n",
       "    </tr>\n",
       "    <tr>\n",
       "      <th>2020-12-29</th>\n",
       "      <td>131.565918</td>\n",
       "      <td>135.389883</td>\n",
       "      <td>131.048903</td>\n",
       "      <td>134.668021</td>\n",
       "      <td>121047300</td>\n",
       "    </tr>\n",
       "    <tr>\n",
       "      <th>2020-12-30</th>\n",
       "      <td>130.444092</td>\n",
       "      <td>132.658485</td>\n",
       "      <td>130.131924</td>\n",
       "      <td>132.258526</td>\n",
       "      <td>96452100</td>\n",
       "    </tr>\n",
       "    <tr>\n",
       "      <th>2020-12-31</th>\n",
       "      <td>129.439316</td>\n",
       "      <td>131.439097</td>\n",
       "      <td>128.493078</td>\n",
       "      <td>130.795262</td>\n",
       "      <td>99116600</td>\n",
       "    </tr>\n",
       "  </tbody>\n",
       "</table>\n",
       "<p>253 rows × 5 columns</p>\n",
       "</div>"
      ],
      "text/plain": [
       "Price            Close        High         Low        Open     Volume\n",
       "Ticker            AAPL        AAPL        AAPL        AAPL       AAPL\n",
       "Date                                                                 \n",
       "2020-01-02   72.620827   72.681274   71.373203   71.627077  135480400\n",
       "2020-01-03   71.914825   72.676454   71.689965   71.847125  146322800\n",
       "2020-01-06   72.487839   72.526526   70.783241   71.034702  118387200\n",
       "2020-01-07   72.146942   72.753823   71.926915   72.497529  108872000\n",
       "2020-01-08   73.307518   73.609752   71.849540   71.849540  132079200\n",
       "...                ...         ...         ...         ...        ...\n",
       "2020-12-24  128.736969  130.190472  127.888287  128.102899   54930100\n",
       "2020-12-28  133.341370  133.975440  130.239266  130.707517  124486200\n",
       "2020-12-29  131.565918  135.389883  131.048903  134.668021  121047300\n",
       "2020-12-30  130.444092  132.658485  130.131924  132.258526   96452100\n",
       "2020-12-31  129.439316  131.439097  128.493078  130.795262   99116600\n",
       "\n",
       "[253 rows x 5 columns]"
      ]
     },
     "execution_count": 2,
     "metadata": {},
     "output_type": "execute_result"
    }
   ],
   "source": [
    "\n",
    "yf.download(['AAPL'],start='2020-01-01',end='2021-01-01')"
   ]
  },
  {
   "cell_type": "markdown",
   "id": "6840d55c",
   "metadata": {},
   "source": [
    "USAGE OF YFINACE - Module yfinace was used to cross-check the pe ratio value given in yahoo finance and the website Marcotrends which was used by\n",
    "                   me to extract the pe ratio data manually into the excel."
   ]
  },
  {
   "cell_type": "code",
   "execution_count": 3,
   "id": "84c3cae6",
   "metadata": {
    "vscode": {
     "languageId": "markdown"
    }
   },
   "outputs": [
    {
     "name": "stdout",
     "output_type": "stream",
     "text": [
      "NVDA trailing PE from Yahoo Finance: 32.890965\n"
     ]
    }
   ],
   "source": [
    "\n",
    "ticker = 'AAPL'\n",
    "nvda = yf.Ticker(ticker)\n",
    "latest_pe = nvda.info.get('trailingPE')\n",
    "\n",
    "print(f\"NVDA trailing PE from Yahoo Finance: {latest_pe}\")"
   ]
  },
  {
   "cell_type": "code",
   "execution_count": 7,
   "id": "59f9fd02",
   "metadata": {},
   "outputs": [
    {
     "name": "stdout",
     "output_type": "stream",
     "text": [
      "dict_keys(['address1', 'city', 'state', 'zip', 'country', 'phone', 'website', 'industry', 'industryKey', 'industryDisp', 'sector', 'sectorKey', 'sectorDisp', 'longBusinessSummary', 'fullTimeEmployees', 'companyOfficers', 'auditRisk', 'boardRisk', 'compensationRisk', 'shareHolderRightsRisk', 'overallRisk', 'governanceEpochDate', 'compensationAsOfEpochDate', 'irWebsite', 'executiveTeam', 'maxAge', 'priceHint', 'previousClose', 'open', 'dayLow', 'dayHigh', 'regularMarketPreviousClose', 'regularMarketOpen', 'regularMarketDayLow', 'regularMarketDayHigh', 'dividendRate', 'dividendYield', 'exDividendDate', 'payoutRatio', 'fiveYearAvgDividendYield', 'beta', 'trailingPE', 'forwardPE', 'volume', 'regularMarketVolume', 'averageVolume', 'averageVolume10days', 'averageDailyVolume10Day', 'bid', 'ask', 'bidSize', 'askSize', 'marketCap', 'fiftyTwoWeekLow', 'fiftyTwoWeekHigh', 'priceToSalesTrailing12Months', 'fiftyDayAverage', 'twoHundredDayAverage', 'trailingAnnualDividendRate', 'trailingAnnualDividendYield', 'currency', 'tradeable', 'enterpriseValue', 'profitMargins', 'floatShares', 'sharesOutstanding', 'sharesShort', 'sharesShortPriorMonth', 'sharesShortPreviousMonthDate', 'dateShortInterest', 'sharesPercentSharesOut', 'heldPercentInsiders', 'heldPercentInstitutions', 'shortRatio', 'shortPercentOfFloat', 'impliedSharesOutstanding', 'bookValue', 'priceToBook', 'lastFiscalYearEnd', 'nextFiscalYearEnd', 'mostRecentQuarter', 'earningsQuarterlyGrowth', 'netIncomeToCommon', 'trailingEps', 'forwardEps', 'lastSplitFactor', 'lastSplitDate', 'enterpriseToRevenue', 'enterpriseToEbitda', '52WeekChange', 'SandP52WeekChange', 'lastDividendValue', 'lastDividendDate', 'quoteType', 'currentPrice', 'targetHighPrice', 'targetLowPrice', 'targetMeanPrice', 'targetMedianPrice', 'recommendationMean', 'recommendationKey', 'numberOfAnalystOpinions', 'totalCash', 'totalCashPerShare', 'ebitda', 'totalDebt', 'quickRatio', 'currentRatio', 'totalRevenue', 'debtToEquity', 'revenuePerShare', 'returnOnAssets', 'returnOnEquity', 'grossProfits', 'freeCashflow', 'operatingCashflow', 'earningsGrowth', 'revenueGrowth', 'grossMargins', 'ebitdaMargins', 'operatingMargins', 'financialCurrency', 'symbol', 'language', 'region', 'typeDisp', 'quoteSourceName', 'triggerable', 'customPriceAlertConfidence', 'market', 'esgPopulated', 'corporateActions', 'postMarketTime', 'regularMarketTime', 'exchange', 'messageBoardId', 'exchangeTimezoneName', 'exchangeTimezoneShortName', 'gmtOffSetMilliseconds', 'regularMarketChangePercent', 'regularMarketPrice', 'longName', 'marketState', 'fiftyDayAverageChange', 'fiftyDayAverageChangePercent', 'twoHundredDayAverageChange', 'twoHundredDayAverageChangePercent', 'sourceInterval', 'exchangeDataDelayedBy', 'averageAnalystRating', 'cryptoTradeable', 'shortName', 'postMarketChangePercent', 'postMarketPrice', 'postMarketChange', 'regularMarketChange', 'regularMarketDayRange', 'fullExchangeName', 'averageDailyVolume3Month', 'fiftyTwoWeekLowChange', 'fiftyTwoWeekLowChangePercent', 'fiftyTwoWeekRange', 'fiftyTwoWeekHighChange', 'fiftyTwoWeekHighChangePercent', 'fiftyTwoWeekChangePercent', 'dividendDate', 'earningsTimestamp', 'earningsTimestampStart', 'earningsTimestampEnd', 'earningsCallTimestampStart', 'earningsCallTimestampEnd', 'isEarningsDateEstimate', 'epsTrailingTwelveMonths', 'epsForward', 'epsCurrentYear', 'priceEpsCurrentYear', 'hasPrePostMarketData', 'firstTradeDateMilliseconds', 'displayName', 'trailingPegRatio'])\n"
     ]
    }
   ],
   "source": [
    "print(nvda.info.keys())\n"
   ]
  },
  {
   "cell_type": "markdown",
   "id": "e1fe8ce5",
   "metadata": {},
   "source": [
    "\n",
    "Conclusion:\n",
    "\n",
    "So the issue with yfinance module is that, yfinacne do not provide the historical data, it only provides\n",
    "1. Daily Prices \n",
    "2. Lastest trailing PE\n",
    "3. Only Paid API's give us all the historical data\n",
    "\n",
    "\n",
    "So the approach that I am using is that manually downloading the csv file or manually adding the data from Macrotrends to excel file. "
   ]
  },
  {
   "cell_type": "markdown",
   "id": "81a30f1e",
   "metadata": {},
   "source": []
  }
 ],
 "metadata": {
  "kernelspec": {
   "display_name": "peratio",
   "language": "python",
   "name": "python3"
  },
  "language_info": {
   "codemirror_mode": {
    "name": "ipython",
    "version": 3
   },
   "file_extension": ".py",
   "mimetype": "text/x-python",
   "name": "python",
   "nbconvert_exporter": "python",
   "pygments_lexer": "ipython3",
   "version": "3.12.11"
  }
 },
 "nbformat": 4,
 "nbformat_minor": 5
}
