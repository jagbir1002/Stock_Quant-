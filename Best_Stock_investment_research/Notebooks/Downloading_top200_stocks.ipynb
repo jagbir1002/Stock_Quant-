{
 "cells": [
  {
   "cell_type": "markdown",
   "id": "0be1bf76",
   "metadata": {},
   "source": [
    "Startng of with the extration of the names of the top 200 companies based on the market cap. Now I will use this file as a name file to use the tickers of the companies, to extract other parameters from marcotrends."
   ]
  },
  {
   "cell_type": "code",
   "execution_count": 2,
   "id": "96a9afca",
   "metadata": {},
   "outputs": [],
   "source": [
    "import requests\n",
    "from bs4 import BeautifulSoup\n",
    "import pandas as pd\n",
    "import time\n",
    "import yfinance as yf\n",
    "import os"
   ]
  },
  {
   "cell_type": "code",
   "execution_count": 3,
   "id": "aeb16b21",
   "metadata": {},
   "outputs": [],
   "source": [
    "PATH=r\"C:\\Users\\surji\\Desktop\\Quant_Poject\\Complete_analysis_200stocks\\Data\\Top200_StockAnalysis.xlsx\"\n",
    "URL =\"https://stockanalysis.com/list/biggest-companies/\""
   ]
  },
  {
   "cell_type": "markdown",
   "id": "92843a10",
   "metadata": {},
   "source": [
    "Creating a function to extract the name of those companies and a function to save the names in excel"
   ]
  },
  {
   "cell_type": "code",
   "execution_count": 4,
   "id": "07d5ec91",
   "metadata": {},
   "outputs": [
    {
     "name": "stdout",
     "output_type": "stream",
     "text": [
      "Data Saved \n"
     ]
    }
   ],
   "source": [
    "def scrape_top200():\n",
    "    response = requests.get(URL)\n",
    "    response.raise_for_status()\n",
    "    soup = BeautifulSoup(response.text, \"html.parser\")\n",
    "\n",
    "    table = soup.find(\"table\")\n",
    "    rows = table.find(\"tbody\").find_all(\"tr\")\n",
    "    data = []\n",
    "    for idx, row in enumerate(rows):\n",
    "        if idx >= 200:\n",
    "            break\n",
    "        cols = row.find_all(\"td\")\n",
    "        ticker = cols[1].text.strip()\n",
    "        company = cols[2].text.strip()\n",
    "        market_cap = cols[3].text.strip()\n",
    "        data.append({\"Ticker\": ticker, \"Company Name\": company, \"Market Cap\": market_cap})\n",
    "    return data\n",
    "\n",
    "def save_to_excel(data, path):\n",
    "    df = pd.DataFrame(data)\n",
    "    os.makedirs(os.path.dirname(path), exist_ok=True)\n",
    "    df.to_excel(path, index=False)\n",
    "    print(\"Data Saved \")\n",
    "\n",
    "if __name__ == \"__main__\":\n",
    "    data = scrape_top200()\n",
    "    save_to_excel(data,PATH)"
   ]
  }
 ],
 "metadata": {
  "kernelspec": {
   "display_name": "peratio",
   "language": "python",
   "name": "python3"
  },
  "language_info": {
   "codemirror_mode": {
    "name": "ipython",
    "version": 3
   },
   "file_extension": ".py",
   "mimetype": "text/x-python",
   "name": "python",
   "nbconvert_exporter": "python",
   "pygments_lexer": "ipython3",
   "version": "3.12.11"
  }
 },
 "nbformat": 4,
 "nbformat_minor": 5
}
