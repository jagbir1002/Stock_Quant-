{
 "cells": [
  {
   "cell_type": "markdown",
   "id": "77f65b3e",
   "metadata": {},
   "source": [
    "NOTE THIS FILE ('Peratio.ipynb') IS JUST A TRIAL TO CHECK WEATHER YFINACE CAN PROVIDE ME THE HISTORICAL DATA OR NOT."
   ]
  },
  {
   "cell_type": "code",
   "execution_count": 2,
   "id": "786bb15d",
   "metadata": {},
   "outputs": [],
   "source": [
    "import yfinance as yf"
   ]
  },
  {
   "cell_type": "code",
   "execution_count": 3,
   "id": "a19f233e",
   "metadata": {},
   "outputs": [
    {
     "name": "stderr",
     "output_type": "stream",
     "text": [
      "C:\\Users\\surji\\AppData\\Local\\Temp\\ipykernel_16368\\3216383638.py:1: FutureWarning: YF.download() has changed argument auto_adjust default to True\n",
      "  yf.download(['TSLA'],start='2011-03-31',end='2025-08-01')\n",
      "[*********************100%***********************]  1 of 1 completed\n"
     ]
    },
    {
     "data": {
      "text/html": [
       "<div>\n",
       "<style scoped>\n",
       "    .dataframe tbody tr th:only-of-type {\n",
       "        vertical-align: middle;\n",
       "    }\n",
       "\n",
       "    .dataframe tbody tr th {\n",
       "        vertical-align: top;\n",
       "    }\n",
       "\n",
       "    .dataframe thead tr th {\n",
       "        text-align: left;\n",
       "    }\n",
       "\n",
       "    .dataframe thead tr:last-of-type th {\n",
       "        text-align: right;\n",
       "    }\n",
       "</style>\n",
       "<table border=\"1\" class=\"dataframe\">\n",
       "  <thead>\n",
       "    <tr>\n",
       "      <th>Price</th>\n",
       "      <th>Close</th>\n",
       "      <th>High</th>\n",
       "      <th>Low</th>\n",
       "      <th>Open</th>\n",
       "      <th>Volume</th>\n",
       "    </tr>\n",
       "    <tr>\n",
       "      <th>Ticker</th>\n",
       "      <th>TSLA</th>\n",
       "      <th>TSLA</th>\n",
       "      <th>TSLA</th>\n",
       "      <th>TSLA</th>\n",
       "      <th>TSLA</th>\n",
       "    </tr>\n",
       "    <tr>\n",
       "      <th>Date</th>\n",
       "      <th></th>\n",
       "      <th></th>\n",
       "      <th></th>\n",
       "      <th></th>\n",
       "      <th></th>\n",
       "    </tr>\n",
       "  </thead>\n",
       "  <tbody>\n",
       "    <tr>\n",
       "      <th>2011-03-31</th>\n",
       "      <td>1.850000</td>\n",
       "      <td>1.914000</td>\n",
       "      <td>1.766667</td>\n",
       "      <td>1.770000</td>\n",
       "      <td>172767000</td>\n",
       "    </tr>\n",
       "    <tr>\n",
       "      <th>2011-04-01</th>\n",
       "      <td>1.777333</td>\n",
       "      <td>1.878667</td>\n",
       "      <td>1.771333</td>\n",
       "      <td>1.830000</td>\n",
       "      <td>42972000</td>\n",
       "    </tr>\n",
       "    <tr>\n",
       "      <th>2011-04-04</th>\n",
       "      <td>1.722000</td>\n",
       "      <td>1.800000</td>\n",
       "      <td>1.682000</td>\n",
       "      <td>1.788667</td>\n",
       "      <td>39139500</td>\n",
       "    </tr>\n",
       "    <tr>\n",
       "      <th>2011-04-05</th>\n",
       "      <td>1.780000</td>\n",
       "      <td>1.800000</td>\n",
       "      <td>1.712667</td>\n",
       "      <td>1.726667</td>\n",
       "      <td>47713500</td>\n",
       "    </tr>\n",
       "    <tr>\n",
       "      <th>2011-04-06</th>\n",
       "      <td>1.766000</td>\n",
       "      <td>1.800667</td>\n",
       "      <td>1.720000</td>\n",
       "      <td>1.799333</td>\n",
       "      <td>19324500</td>\n",
       "    </tr>\n",
       "    <tr>\n",
       "      <th>...</th>\n",
       "      <td>...</td>\n",
       "      <td>...</td>\n",
       "      <td>...</td>\n",
       "      <td>...</td>\n",
       "      <td>...</td>\n",
       "    </tr>\n",
       "    <tr>\n",
       "      <th>2025-07-25</th>\n",
       "      <td>316.059998</td>\n",
       "      <td>323.630005</td>\n",
       "      <td>308.010010</td>\n",
       "      <td>308.739990</td>\n",
       "      <td>148227000</td>\n",
       "    </tr>\n",
       "    <tr>\n",
       "      <th>2025-07-28</th>\n",
       "      <td>325.589996</td>\n",
       "      <td>330.489990</td>\n",
       "      <td>315.690002</td>\n",
       "      <td>318.450012</td>\n",
       "      <td>112673800</td>\n",
       "    </tr>\n",
       "    <tr>\n",
       "      <th>2025-07-29</th>\n",
       "      <td>321.200012</td>\n",
       "      <td>326.250000</td>\n",
       "      <td>318.250000</td>\n",
       "      <td>325.549988</td>\n",
       "      <td>87358900</td>\n",
       "    </tr>\n",
       "    <tr>\n",
       "      <th>2025-07-30</th>\n",
       "      <td>319.040009</td>\n",
       "      <td>324.450012</td>\n",
       "      <td>311.619995</td>\n",
       "      <td>322.179993</td>\n",
       "      <td>83931900</td>\n",
       "    </tr>\n",
       "    <tr>\n",
       "      <th>2025-07-31</th>\n",
       "      <td>308.269989</td>\n",
       "      <td>321.369995</td>\n",
       "      <td>306.100006</td>\n",
       "      <td>319.609985</td>\n",
       "      <td>85270900</td>\n",
       "    </tr>\n",
       "  </tbody>\n",
       "</table>\n",
       "<p>3605 rows × 5 columns</p>\n",
       "</div>"
      ],
      "text/plain": [
       "Price            Close        High         Low        Open     Volume\n",
       "Ticker            TSLA        TSLA        TSLA        TSLA       TSLA\n",
       "Date                                                                 \n",
       "2011-03-31    1.850000    1.914000    1.766667    1.770000  172767000\n",
       "2011-04-01    1.777333    1.878667    1.771333    1.830000   42972000\n",
       "2011-04-04    1.722000    1.800000    1.682000    1.788667   39139500\n",
       "2011-04-05    1.780000    1.800000    1.712667    1.726667   47713500\n",
       "2011-04-06    1.766000    1.800667    1.720000    1.799333   19324500\n",
       "...                ...         ...         ...         ...        ...\n",
       "2025-07-25  316.059998  323.630005  308.010010  308.739990  148227000\n",
       "2025-07-28  325.589996  330.489990  315.690002  318.450012  112673800\n",
       "2025-07-29  321.200012  326.250000  318.250000  325.549988   87358900\n",
       "2025-07-30  319.040009  324.450012  311.619995  322.179993   83931900\n",
       "2025-07-31  308.269989  321.369995  306.100006  319.609985   85270900\n",
       "\n",
       "[3605 rows x 5 columns]"
      ]
     },
     "execution_count": 3,
     "metadata": {},
     "output_type": "execute_result"
    }
   ],
   "source": [
    "\n",
    "yf.download(['TSLA'],start='2011-03-31',end='2025-08-01')"
   ]
  },
  {
   "cell_type": "markdown",
   "id": "6840d55c",
   "metadata": {},
   "source": [
    "USAGE OF YFINACE - Module yfinace was used to cross-check the pe ratio value given in yahoo finance and the website Marcotrends which was used by\n",
    "                   me to extract the pe ratio data manually into the excel."
   ]
  },
  {
   "cell_type": "code",
   "execution_count": 9,
   "id": "84c3cae6",
   "metadata": {
    "vscode": {
     "languageId": "markdown"
    }
   },
   "outputs": [
    {
     "name": "stdout",
     "output_type": "stream",
     "text": [
      "3.24\n"
     ]
    }
   ],
   "source": [
    "\n",
    "ticker = 'TSLA'\n",
    "tsla= yf.Ticker(ticker)\n",
    "latest_pe = tsla.info.get('forwardEps')\n",
    "\n",
    "print(latest_pe)"
   ]
  },
  {
   "cell_type": "code",
   "execution_count": 6,
   "id": "59f9fd02",
   "metadata": {},
   "outputs": [
    {
     "name": "stdout",
     "output_type": "stream",
     "text": [
      "dict_keys(['address1', 'city', 'state', 'zip', 'country', 'phone', 'website', 'industry', 'industryKey', 'industryDisp', 'sector', 'sectorKey', 'sectorDisp', 'longBusinessSummary', 'fullTimeEmployees', 'companyOfficers', 'auditRisk', 'boardRisk', 'compensationRisk', 'shareHolderRightsRisk', 'overallRisk', 'governanceEpochDate', 'compensationAsOfEpochDate', 'executiveTeam', 'maxAge', 'priceHint', 'previousClose', 'open', 'dayLow', 'dayHigh', 'regularMarketPreviousClose', 'regularMarketOpen', 'regularMarketDayLow', 'regularMarketDayHigh', 'payoutRatio', 'beta', 'trailingPE', 'forwardPE', 'volume', 'regularMarketVolume', 'averageVolume', 'averageVolume10days', 'averageDailyVolume10Day', 'bid', 'ask', 'bidSize', 'askSize', 'marketCap', 'fiftyTwoWeekLow', 'fiftyTwoWeekHigh', 'priceToSalesTrailing12Months', 'fiftyDayAverage', 'twoHundredDayAverage', 'trailingAnnualDividendRate', 'trailingAnnualDividendYield', 'currency', 'tradeable', 'enterpriseValue', 'profitMargins', 'floatShares', 'sharesOutstanding', 'sharesShort', 'sharesShortPriorMonth', 'sharesShortPreviousMonthDate', 'dateShortInterest', 'sharesPercentSharesOut', 'heldPercentInsiders', 'heldPercentInstitutions', 'shortRatio', 'shortPercentOfFloat', 'impliedSharesOutstanding', 'bookValue', 'priceToBook', 'lastFiscalYearEnd', 'nextFiscalYearEnd', 'mostRecentQuarter', 'earningsQuarterlyGrowth', 'netIncomeToCommon', 'trailingEps', 'forwardEps', 'lastSplitFactor', 'lastSplitDate', 'enterpriseToRevenue', 'enterpriseToEbitda', '52WeekChange', 'SandP52WeekChange', 'quoteType', 'currentPrice', 'targetHighPrice', 'targetLowPrice', 'targetMeanPrice', 'targetMedianPrice', 'recommendationMean', 'recommendationKey', 'numberOfAnalystOpinions', 'totalCash', 'totalCashPerShare', 'ebitda', 'totalDebt', 'quickRatio', 'currentRatio', 'totalRevenue', 'debtToEquity', 'revenuePerShare', 'returnOnAssets', 'returnOnEquity', 'grossProfits', 'freeCashflow', 'operatingCashflow', 'earningsGrowth', 'revenueGrowth', 'grossMargins', 'ebitdaMargins', 'operatingMargins', 'financialCurrency', 'symbol', 'language', 'region', 'typeDisp', 'quoteSourceName', 'triggerable', 'customPriceAlertConfidence', 'shortName', 'longName', 'hasPrePostMarketData', 'firstTradeDateMilliseconds', 'preMarketChange', 'preMarketChangePercent', 'preMarketPrice', 'regularMarketChange', 'fiftyTwoWeekHighChange', 'fiftyTwoWeekHighChangePercent', 'fiftyTwoWeekChangePercent', 'earningsTimestamp', 'earningsTimestampStart', 'earningsTimestampEnd', 'earningsCallTimestampStart', 'earningsCallTimestampEnd', 'isEarningsDateEstimate', 'epsTrailingTwelveMonths', 'epsForward', 'epsCurrentYear', 'priceEpsCurrentYear', 'regularMarketDayRange', 'fullExchangeName', 'averageDailyVolume3Month', 'fiftyTwoWeekLowChange', 'fiftyTwoWeekLowChangePercent', 'fiftyTwoWeekRange', 'fiftyDayAverageChange', 'fiftyDayAverageChangePercent', 'twoHundredDayAverageChange', 'twoHundredDayAverageChangePercent', 'sourceInterval', 'exchangeDataDelayedBy', 'averageAnalystRating', 'marketState', 'corporateActions', 'preMarketTime', 'regularMarketTime', 'exchange', 'messageBoardId', 'exchangeTimezoneName', 'exchangeTimezoneShortName', 'gmtOffSetMilliseconds', 'market', 'esgPopulated', 'regularMarketChangePercent', 'regularMarketPrice', 'cryptoTradeable', 'displayName', 'trailingPegRatio'])\n"
     ]
    }
   ],
   "source": [
    "print(tsla.info.keys())\n"
   ]
  },
  {
   "cell_type": "markdown",
   "id": "e1fe8ce5",
   "metadata": {},
   "source": [
    "\n",
    "Conclusion:\n",
    "\n",
    "So the issue with yfinance module is that, yfinacne do not provide the historical data, it only provides\n",
    "1. Daily Prices \n",
    "2. Lastest trailing PE\n",
    "3. Only Paid API's give us all the historical data\n",
    "\n",
    "\n",
    "So the approach that I am using is that manually downloading the csv file or manually adding the data from Macrotrends to excel file. "
   ]
  },
  {
   "cell_type": "markdown",
   "id": "81a30f1e",
   "metadata": {},
   "source": []
  }
 ],
 "metadata": {
  "kernelspec": {
   "display_name": "peratio",
   "language": "python",
   "name": "python3"
  },
  "language_info": {
   "codemirror_mode": {
    "name": "ipython",
    "version": 3
   },
   "file_extension": ".py",
   "mimetype": "text/x-python",
   "name": "python",
   "nbconvert_exporter": "python",
   "pygments_lexer": "ipython3",
   "version": "3.12.11"
  }
 },
 "nbformat": 4,
 "nbformat_minor": 5
}
