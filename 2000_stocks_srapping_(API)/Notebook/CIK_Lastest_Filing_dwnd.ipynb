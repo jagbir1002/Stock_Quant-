{
 "cells": [
  {
   "cell_type": "code",
   "execution_count": null,
   "id": "98eec0e9",
   "metadata": {},
   "outputs": [],
   "source": [
    "import os\n",
    "import re\n",
    "import requests\n",
    "import pandas as pd\n",
    "from datetime import datetime\n",
    "import time\n",
    "\n",
    "TICKER_SOURCE_PATH = r\"C:\\Users\\surji\\Desktop\\Quant_Poject\\CompanyList_File_Tickers.xlsx\"\n",
    "DOWNLOAD_DIR = r\"C:\\Users\\surji\\Desktop\\Quant_Poject\\Downloaded Filings\"\n",
    "USER_AGENT = \"MyAppName your_email@example.com\"\n",
    "TICKER_COLUMN = \"Ticker\" \n",
    "OUTPUT_FILE = os.path.join(DOWNLOAD_DIR, \"Parsed_DATA.xlsx\")\n",
    "\n",
    "def read_tickers_from_excel(path, column_name):\n",
    "    df = pd.read_excel(path)\n",
    "    return df[column_name].dropna().unique().tolist()\n",
    "TICKERS = read_tickers_from_excel(TICKER_SOURCE_PATH, TICKER_COLUMN)\n",
    "os.makedirs(DOWNLOAD_DIR, exist_ok=True)"
   ]
  },
  {
   "cell_type": "code",
   "execution_count": null,
   "id": "a66a63d2",
   "metadata": {},
   "outputs": [],
   "source": [
    "\n",
    "def get_cik_mapping():\n",
    "    url = \"https://www.sec.gov/files/company_tickers.json\"\n",
    "    resp = requests.get(url, headers={'User-Agent': USER_AGENT})\n",
    "    resp.raise_for_status()\n",
    "    data = resp.json()\n",
    "    df = pd.DataFrame.from_dict(data, orient='index')\n",
    "    df['ticker'] = df['ticker'].str.upper()\n",
    "    df['cik_str'] = df['cik_str'].apply(lambda x: str(x).zfill(10))\n",
    "    return df\n",
    "\n",
    "def find_cik(ticker, cik_df):\n",
    "    ticker_norm = ticker.replace('.', '-').upper()\n",
    "    row = cik_df[cik_df['ticker'] == ticker_norm]\n",
    "    if not row.empty:\n",
    "        return row.iloc[0]['cik_str'], row.iloc[0]['title']\n",
    "\n",
    "    row = cik_df[cik_df['ticker'] == ticker.upper()]\n",
    "    if not row.empty:\n",
    "        return row.iloc[0]['cik_str'], row.iloc[0]['title']\n",
    "    \n",
    "    partial_matches = cik_df[cik_df['ticker'].str.startswith(ticker.split('.')[0].upper())]\n",
    "    if not partial_matches.empty:\n",
    "        best_row = partial_matches.iloc[0]\n",
    "        print(f\"\\u26a0\\ufe0f Auto-fallback matched '{ticker}' → '{best_row['ticker']}' ({best_row['title']})\")\n",
    "        return best_row['cik_str'], best_row['title']\n",
    "\n",
    "    print(f\"\\u274c No CIK for {ticker}\")\n",
    "    return None, None\n"
   ]
  },
  {
   "cell_type": "markdown",
   "id": "77436290",
   "metadata": {},
   "source": [
    "Downloading the lastest filings ( 10-k, 10-Q, 20-F, 6-K )"
   ]
  },
  {
   "cell_type": "code",
   "execution_count": null,
   "id": "2eec354d",
   "metadata": {},
   "outputs": [],
   "source": [
    "def download_latest_filing(cik):\n",
    "    url = f\"https://data.sec.gov/submissions/CIK{cik}.json\"\n",
    "    resp = requests.get(url, headers={'User-Agent': USER_AGENT})\n",
    "    resp.raise_for_status()\n",
    "    data = resp.json()\n",
    "    filings = data['filings']['recent']\n",
    "    \n",
    "    form_priority = ['10-K', '20-F', '10-Q', '6-K'] \n",
    "\n",
    "    for form_type in form_priority:\n",
    "        for i in range(len(filings['form'])):\n",
    "            form = filings['form'][i]\n",
    "            if form == form_type:\n",
    "                accession = filings['accessionNumber'][i].replace('-', '')\n",
    "                doc = filings['primaryDocument'][i]\n",
    "                filing_date = filings['filingDate'][i]\n",
    "                file_url = f\"https://www.sec.gov/Archives/edgar/data/{int(cik)}/{accession}/{doc}\"\n",
    "                print(f\"📥 Downloading {form} on {filing_date}\")\n",
    "                r = requests.get(file_url, headers={'User-Agent': USER_AGENT})\n",
    "                r.raise_for_status()\n",
    "                return r.text, form, filing_date\n",
    "    raise Exception(\"No suitable filing found\")"
   ]
  },
  {
   "cell_type": "markdown",
   "id": "15acf1cd",
   "metadata": {},
   "source": [
    "Saving the file that has been downloaded "
   ]
  },
  {
   "cell_type": "code",
   "execution_count": null,
   "id": "118f63a5",
   "metadata": {},
   "outputs": [],
   "source": [
    "\n",
    "def save_filing(content, ticker, form, date):\n",
    "    filename = f\"{ticker}_{form}_{date.replace('-', '')}.html\"\n",
    "    path = os.path.join(DOWNLOAD_DIR, filename)\n",
    "    with open(path, 'w', encoding='utf-8') as f:\n",
    "        f.write(content)\n",
    "    return path"
   ]
  }
 ],
 "metadata": {
  "kernelspec": {
   "display_name": "quantproenv",
   "language": "python",
   "name": "python3"
  },
  "language_info": {
   "name": "python",
   "version": "3.12.11"
  }
 },
 "nbformat": 4,
 "nbformat_minor": 5
}
