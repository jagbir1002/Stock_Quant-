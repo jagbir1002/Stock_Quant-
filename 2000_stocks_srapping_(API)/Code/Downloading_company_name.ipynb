{
 "cells": [
  {
   "cell_type": "markdown",
   "id": "9f115dac",
   "metadata": {},
   "source": [
    "First we will download all the 2000 company name according to market cap, and will save it in excel."
   ]
  },
  {
   "cell_type": "code",
   "execution_count": null,
   "id": "ddfa1ce9",
   "metadata": {},
   "outputs": [],
   "source": [
    "import requests\n",
    "from bs4 import BeautifulSoup\n",
    "import pandas as pd\n",
    "import time\n",
    "import yfinance as yf\n",
    "import os\n",
    "PATH=r\"C:\\Users\\surji\\Desktop\\Quant_Poject\\2000_stocks_srapping_(API)\\Data\\Stock List.xlsx\"\n",
    "URL =\"https://stockanalysis.com/list/biggest-companies/\"\n",
    "\n",
    "\n"
   ]
  },
  {
   "cell_type": "code",
   "execution_count": null,
   "id": "dc9f94b9",
   "metadata": {},
   "outputs": [],
   "source": [
    "\n",
    "def scrape_top2000():\n",
    "    response = requests.get(URL)\n",
    "    response.raise_for_status()\n",
    "    soup = BeautifulSoup(response.text, \"html.parser\")\n",
    "\n",
    "    table = soup.find(\"table\")\n",
    "    rows = table.find(\"tbody\").find_all(\"tr\")\n",
    "    data = []\n",
    "    for idx, row in enumerate(rows):\n",
    "        if idx >= 2000:\n",
    "            break\n",
    "        cols = row.find_all(\"td\")\n",
    "        ticker = cols[1].text.strip()\n",
    "        company = cols[2].text.strip()\n",
    "        market_cap = cols[3].text.strip()\n",
    "        data.append({\"Ticker\": ticker, \"Company Name\": company, \"Market Cap\": market_cap})\n",
    "    return data\n",
    "\n",
    "def save_to_excel(data, path):\n",
    "    df = pd.DataFrame(data)\n",
    "    os.makedirs(os.path.dirname(path), exist_ok=True)\n",
    "    df.to_excel(path, index=False)\n",
    "    print(\"Data Saved \")\n",
    "\n",
    "if __name__ == \"__main__\":\n",
    "    data = scrape_top2000()\n",
    "    save_to_excel(data,PATH)"
   ]
  }
 ],
 "metadata": {
  "language_info": {
   "name": "python"
  }
 },
 "nbformat": 4,
 "nbformat_minor": 5
}
