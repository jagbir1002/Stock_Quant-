{
 "cells": [
  {
   "cell_type": "markdown",
   "id": "c7bad590",
   "metadata": {},
   "source": [
    "Section 1 : PE Analysis"
   ]
  },
  {
   "cell_type": "code",
   "execution_count": 2,
   "id": "0f04d518",
   "metadata": {},
   "outputs": [],
   "source": [
    "import pandas as pd\n",
    "import os"
   ]
  },
  {
   "cell_type": "code",
   "execution_count": 3,
   "id": "30a4f6e7",
   "metadata": {},
   "outputs": [],
   "source": [
    "file_path = r\"C:\\Users\\surji\\Desktop\\Quant_Poject\\Perfomance_metrics\\data\\pe_ratio_data.csv\"\n",
    "df = pd.read_csv(file_path, parse_dates=['Date'])\n",
    "\n",
    "df = df.sort_values(['TickerName', 'Date']).reset_index(drop=True)\n",
    "tickers = df['TickerName'].unique()"
   ]
  },
  {
   "cell_type": "markdown",
   "id": "45285dab",
   "metadata": {},
   "source": [
    "These are the rolling windows for test "
   ]
  },
  {
   "cell_type": "code",
   "execution_count": 4,
   "id": "194f1f93",
   "metadata": {},
   "outputs": [],
   "source": [
    "rolling_windows = [20, 60, 120, 180, 250, 500]"
   ]
  },
  {
   "cell_type": "code",
   "execution_count": 5,
   "id": "d0dc3c34",
   "metadata": {},
   "outputs": [
    {
     "name": "stdout",
     "output_type": "stream",
     "text": [
      "Processing rolling window: 20\n",
      "Processing rolling window: 60\n",
      "Processing rolling window: 120\n",
      "Processing rolling window: 180\n",
      "Processing rolling window: 250\n",
      "Processing rolling window: 500\n"
     ]
    }
   ],
   "source": [
    "\n",
    "experiment_results = []\n",
    "\n",
    "for window in rolling_windows:\n",
    "    print(f\"Processing rolling window: {window}\")\n",
    "    df_window = df.copy()\n",
    "\n",
    "    df_window['Rolling_P10'] = df_window.groupby('TickerName')['PE'].transform(\n",
    "        lambda x: x.rolling(window=window,min_periods=5).quantile(0.10)\n",
    "    )\n",
    "    df_window['Rolling_P90'] = df_window.groupby('TickerName')['PE'].transform(\n",
    "        lambda x: x.rolling(window=window, min_periods=5).quantile(0.90)\n",
    "    )\n",
    "\n",
    "    df_window['Signal'] = 0\n",
    "    df_window.loc[df_window['PE'] < df_window['Rolling_P10'], 'Signal'] = 1\n",
    "    df_window.loc[df_window['PE'] > df_window['Rolling_P90'], 'Signal'] = -1\n",
    "    df_window['RollingWindow'] = window\n",
    "\n",
    "    experiment_results.append(df_window)\n",
    "df_experiments = pd.concat(experiment_results, ignore_index=True)\n"
   ]
  },
  {
   "cell_type": "code",
   "execution_count": 5,
   "id": "7e7fcdf3",
   "metadata": {},
   "outputs": [
    {
     "data": {
      "text/plain": [
       "TickerName\n",
       "AAPL     63\n",
       "GOOGL    64\n",
       "META     50\n",
       "MSFT     63\n",
       "TSLA     59\n",
       "dtype: int64"
      ]
     },
     "execution_count": 5,
     "metadata": {},
     "output_type": "execute_result"
    }
   ],
   "source": [
    "df.groupby('TickerName')['Date'].min()\n",
    "df.groupby('TickerName').size()\n"
   ]
  },
  {
   "cell_type": "markdown",
   "id": "0849c16d",
   "metadata": {},
   "source": [
    "This is just and experiment code to check what values are returning for the given window before saving it in excel"
   ]
  },
  {
   "cell_type": "code",
   "execution_count": 10,
   "id": "157c05f2",
   "metadata": {},
   "outputs": [
    {
     "data": {
      "text/html": [
       "<div>\n",
       "<style scoped>\n",
       "    .dataframe tbody tr th:only-of-type {\n",
       "        vertical-align: middle;\n",
       "    }\n",
       "\n",
       "    .dataframe tbody tr th {\n",
       "        vertical-align: top;\n",
       "    }\n",
       "\n",
       "    .dataframe thead th {\n",
       "        text-align: right;\n",
       "    }\n",
       "</style>\n",
       "<table border=\"1\" class=\"dataframe\">\n",
       "  <thead>\n",
       "    <tr style=\"text-align: right;\">\n",
       "      <th></th>\n",
       "      <th>Date</th>\n",
       "      <th>TickerName</th>\n",
       "      <th>StockPrice</th>\n",
       "      <th>NetEPS</th>\n",
       "      <th>PE</th>\n",
       "      <th>Rolling_P10</th>\n",
       "      <th>Rolling_P90</th>\n",
       "      <th>Signal</th>\n",
       "      <th>RollingWindow</th>\n",
       "    </tr>\n",
       "  </thead>\n",
       "  <tbody>\n",
       "    <tr>\n",
       "      <th>0</th>\n",
       "      <td>2009-12-31</td>\n",
       "      <td>AAPL</td>\n",
       "      <td>6.33</td>\n",
       "      <td>$0.31</td>\n",
       "      <td>20.48</td>\n",
       "      <td>NaN</td>\n",
       "      <td>NaN</td>\n",
       "      <td>0</td>\n",
       "      <td>20</td>\n",
       "    </tr>\n",
       "    <tr>\n",
       "      <th>1</th>\n",
       "      <td>2010-03-31</td>\n",
       "      <td>AAPL</td>\n",
       "      <td>7.06</td>\n",
       "      <td>$0.36</td>\n",
       "      <td>19.45</td>\n",
       "      <td>NaN</td>\n",
       "      <td>NaN</td>\n",
       "      <td>0</td>\n",
       "      <td>20</td>\n",
       "    </tr>\n",
       "    <tr>\n",
       "      <th>2</th>\n",
       "      <td>2010-06-30</td>\n",
       "      <td>AAPL</td>\n",
       "      <td>7.56</td>\n",
       "      <td>$0.44</td>\n",
       "      <td>17.17</td>\n",
       "      <td>NaN</td>\n",
       "      <td>NaN</td>\n",
       "      <td>0</td>\n",
       "      <td>20</td>\n",
       "    </tr>\n",
       "    <tr>\n",
       "      <th>3</th>\n",
       "      <td>2010-09-30</td>\n",
       "      <td>AAPL</td>\n",
       "      <td>8.53</td>\n",
       "      <td>$0.54</td>\n",
       "      <td>15.76</td>\n",
       "      <td>NaN</td>\n",
       "      <td>NaN</td>\n",
       "      <td>0</td>\n",
       "      <td>20</td>\n",
       "    </tr>\n",
       "    <tr>\n",
       "      <th>63</th>\n",
       "      <td>2009-12-31</td>\n",
       "      <td>GOOGL</td>\n",
       "      <td>15.42</td>\n",
       "      <td>$0.51</td>\n",
       "      <td>30.19</td>\n",
       "      <td>NaN</td>\n",
       "      <td>NaN</td>\n",
       "      <td>0</td>\n",
       "      <td>20</td>\n",
       "    </tr>\n",
       "    <tr>\n",
       "      <th>...</th>\n",
       "      <td>...</td>\n",
       "      <td>...</td>\n",
       "      <td>...</td>\n",
       "      <td>...</td>\n",
       "      <td>...</td>\n",
       "      <td>...</td>\n",
       "      <td>...</td>\n",
       "      <td>...</td>\n",
       "      <td>...</td>\n",
       "    </tr>\n",
       "    <tr>\n",
       "      <th>1675</th>\n",
       "      <td>2010-09-30</td>\n",
       "      <td>MSFT</td>\n",
       "      <td>18.62</td>\n",
       "      <td>$2.32</td>\n",
       "      <td>8.02</td>\n",
       "      <td>NaN</td>\n",
       "      <td>NaN</td>\n",
       "      <td>0</td>\n",
       "      <td>500</td>\n",
       "    </tr>\n",
       "    <tr>\n",
       "      <th>1735</th>\n",
       "      <td>2011-03-31</td>\n",
       "      <td>TSLA</td>\n",
       "      <td>1.85</td>\n",
       "      <td>$-0.43</td>\n",
       "      <td>0.00</td>\n",
       "      <td>NaN</td>\n",
       "      <td>NaN</td>\n",
       "      <td>0</td>\n",
       "      <td>500</td>\n",
       "    </tr>\n",
       "    <tr>\n",
       "      <th>1736</th>\n",
       "      <td>2011-06-30</td>\n",
       "      <td>TSLA</td>\n",
       "      <td>1.94</td>\n",
       "      <td>$-0.14</td>\n",
       "      <td>0.00</td>\n",
       "      <td>NaN</td>\n",
       "      <td>NaN</td>\n",
       "      <td>0</td>\n",
       "      <td>500</td>\n",
       "    </tr>\n",
       "    <tr>\n",
       "      <th>1737</th>\n",
       "      <td>2011-09-30</td>\n",
       "      <td>TSLA</td>\n",
       "      <td>1.63</td>\n",
       "      <td>$-0.15</td>\n",
       "      <td>0.00</td>\n",
       "      <td>NaN</td>\n",
       "      <td>NaN</td>\n",
       "      <td>0</td>\n",
       "      <td>500</td>\n",
       "    </tr>\n",
       "    <tr>\n",
       "      <th>1738</th>\n",
       "      <td>2011-12-31</td>\n",
       "      <td>TSLA</td>\n",
       "      <td>1.90</td>\n",
       "      <td>$-0.17</td>\n",
       "      <td>0.00</td>\n",
       "      <td>NaN</td>\n",
       "      <td>NaN</td>\n",
       "      <td>0</td>\n",
       "      <td>500</td>\n",
       "    </tr>\n",
       "  </tbody>\n",
       "</table>\n",
       "<p>120 rows × 9 columns</p>\n",
       "</div>"
      ],
      "text/plain": [
       "           Date TickerName  StockPrice  NetEPS     PE  Rolling_P10  \\\n",
       "0    2009-12-31       AAPL        6.33   $0.31  20.48          NaN   \n",
       "1    2010-03-31       AAPL        7.06   $0.36  19.45          NaN   \n",
       "2    2010-06-30       AAPL        7.56   $0.44  17.17          NaN   \n",
       "3    2010-09-30       AAPL        8.53   $0.54  15.76          NaN   \n",
       "63   2009-12-31      GOOGL       15.42   $0.51  30.19          NaN   \n",
       "...         ...        ...         ...     ...    ...          ...   \n",
       "1675 2010-09-30       MSFT       18.62   $2.32   8.02          NaN   \n",
       "1735 2011-03-31       TSLA        1.85  $-0.43   0.00          NaN   \n",
       "1736 2011-06-30       TSLA        1.94  $-0.14   0.00          NaN   \n",
       "1737 2011-09-30       TSLA        1.63  $-0.15   0.00          NaN   \n",
       "1738 2011-12-31       TSLA        1.90  $-0.17   0.00          NaN   \n",
       "\n",
       "      Rolling_P90  Signal  RollingWindow  \n",
       "0             NaN       0             20  \n",
       "1             NaN       0             20  \n",
       "2             NaN       0             20  \n",
       "3             NaN       0             20  \n",
       "63            NaN       0             20  \n",
       "...           ...     ...            ...  \n",
       "1675          NaN       0            500  \n",
       "1735          NaN       0            500  \n",
       "1736          NaN       0            500  \n",
       "1737          NaN       0            500  \n",
       "1738          NaN       0            500  \n",
       "\n",
       "[120 rows x 9 columns]"
      ]
     },
     "execution_count": 10,
     "metadata": {},
     "output_type": "execute_result"
    }
   ],
   "source": [
    "df_experiments[df_experiments['Rolling_P10'].isna() & (df_experiments['Date'] < '2015')]\n"
   ]
  },
  {
   "cell_type": "code",
   "execution_count": 11,
   "id": "c08f10b9",
   "metadata": {},
   "outputs": [
    {
     "name": "stdout",
     "output_type": "stream",
     "text": [
      " Data saved \n"
     ]
    }
   ],
   "source": [
    "file_path = r\"C:\\Users\\surji\\Desktop\\Quant_Poject\\Perfomance_metrics\\data\\pe_ratio_rolling_analysis.csv\"\n",
    "df_experiments.to_csv(file_path, index=False)\n",
    "print(\" Data saved \")\n",
    "\n"
   ]
  },
  {
   "cell_type": "code",
   "execution_count": 12,
   "id": "77ddda15",
   "metadata": {},
   "outputs": [
    {
     "name": "stdout",
     "output_type": "stream",
     "text": [
      "Experiment tracking file has been created\n"
     ]
    }
   ],
   "source": [
    "folder_path = r\"C:\\Users\\surji\\Desktop\\Quant_Poject\\Perfomance_metrics\\data\"\n",
    "file_name = \"experiment_tracking.csv\"\n",
    "full_path = os.path.join(folder_path, file_name)\n",
    "\n",
    "if not os.path.exists(folder_path):\n",
    "    os.makedirs(folder_path)\n",
    "\n",
    "experiment_tracking = pd.DataFrame(columns=[\n",
    "    'TickerName', 'RollingWindow', 'ROI', 'MaxDrawdown', 'SharpeRatio', 'ROI_to_MDD'\n",
    "])\n",
    "experiment_tracking.to_csv(full_path, index=False)\n",
    "print(\"Experiment tracking file has been created\")\n"
   ]
  }
 ],
 "metadata": {
  "kernelspec": {
   "display_name": "peratio",
   "language": "python",
   "name": "python3"
  },
  "language_info": {
   "codemirror_mode": {
    "name": "ipython",
    "version": 3
   },
   "file_extension": ".py",
   "mimetype": "text/x-python",
   "name": "python",
   "nbconvert_exporter": "python",
   "pygments_lexer": "ipython3",
   "version": "3.12.11"
  }
 },
 "nbformat": 4,
 "nbformat_minor": 5
}
