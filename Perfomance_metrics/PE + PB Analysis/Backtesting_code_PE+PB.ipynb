{
 "cells": [
  {
   "cell_type": "code",
   "execution_count": 18,
   "id": "82fcc70a",
   "metadata": {},
   "outputs": [],
   "source": [
    "import pandas as pd\n",
    "import numpy as np"
   ]
  },
  {
   "cell_type": "code",
   "execution_count": 19,
   "id": "f7912377",
   "metadata": {},
   "outputs": [],
   "source": [
    "file_path = \"analysis_data/pe_pb_ratio_rolling_analysis.csv\"\n",
    "df = pd.read_csv(file_path, parse_dates=['Date'])\n",
    "\n",
    "initial_capital = 100_000\n",
    "tickers = df['TickerName'].unique()\n",
    "rolling_windows = df['RollingWindow'].unique()"
   ]
  },
  {
   "cell_type": "code",
   "execution_count": 20,
   "id": "ca9c27fa",
   "metadata": {},
   "outputs": [],
   "source": [
    "def calculate_max_drawdown(cum_returns):\n",
    "    running_max = np.maximum.accumulate(cum_returns)\n",
    "    drawdown = (cum_returns - running_max) / running_max\n",
    "    return drawdown.min()\n",
    "\n",
    "def calculate_sharpe_ratio(returns, risk_free_rate=0, periods_per_year=252):\n",
    "    excess_returns = returns - risk_free_rate / periods_per_year\n",
    "    if returns.std() == 0:\n",
    "        return 0\n",
    "    return np.sqrt(periods_per_year) * excess_returns.mean() / returns.std()\n",
    "\n",
    "results = []\n",
    "\n"
   ]
  },
  {
   "cell_type": "markdown",
   "id": "64c7bdc2",
   "metadata": {},
   "source": [
    "I used this code to check what colums are present in the dataframe in order to extract Stockprice"
   ]
  },
  {
   "cell_type": "code",
   "execution_count": 21,
   "id": "ad5a4d48",
   "metadata": {},
   "outputs": [
    {
     "name": "stdout",
     "output_type": "stream",
     "text": [
      "['Date', 'TickerName', 'StockPrice_x', 'NetEPS', 'PE', 'StockPrice_y', 'BookValuePerShare', 'PB', 'Rolling_P10_PE', 'Rolling_P90_PE', 'Rolling_P10_PB', 'Rolling_P90_PB', 'Signal', 'RollingWindow']\n"
     ]
    }
   ],
   "source": [
    "print(df.columns.unique().tolist())\n"
   ]
  },
  {
   "cell_type": "markdown",
   "id": "59e4db42",
   "metadata": {},
   "source": [
    "1. Since I merged the PE and PB ratio datasets, hence both stockprice_x and stockprice_y will have the data.\n",
    "2. I later also standardized stock price x and y into Stock price"
   ]
  },
  {
   "cell_type": "markdown",
   "id": "5c1de083",
   "metadata": {},
   "source": [
    "Backtest strategy\n",
    "Enter on buy signal and stay invested untill the sell signal\n",
    "2 Types of returns are calculated, strategy and market. Strategy returns are based on the buy and sell signals which are generated using PE and PB as thresholds. Position gets active when the signal is triggered. On the other hand Market returns are calculated using simple buy and hold, no signals are used.\n",
    "\n",
    "These returns are then used to calculate performance metrics such as ROI, Sharpe Ratio, MDD, ROI to MDD.\n",
    "\n",
    "Following is the description of the signals:\n",
    "1. Buy : 1 ( When PE , PB < P10 )\n",
    "2. Sell : -1 ( When PE , PB > P90 )\n",
    "3. Hold : 0 "
   ]
  },
  {
   "cell_type": "code",
   "execution_count": 22,
   "id": "d7c38735",
   "metadata": {},
   "outputs": [
    {
     "name": "stdout",
     "output_type": "stream",
     "text": [
      "Backtest Strategy added\n"
     ]
    }
   ],
   "source": [
    "for window in rolling_windows:\n",
    "    for ticker in tickers:\n",
    "        temp = df[(df['TickerName'] == ticker) & (df['RollingWindow'] == window)].copy()\n",
    "        temp = temp.sort_values('Date').reset_index(drop=True)\n",
    "\n",
    "        if 'StockPrice_x' in temp.columns:\n",
    "            temp['StockPrice'] = temp['StockPrice_x']\n",
    "        elif 'StockPrice_y' in temp.columns:\n",
    "            temp['StockPrice'] = temp['StockPrice_y']\n",
    "        else:\n",
    "            raise KeyError(\"Wrong stock price column\")\n",
    "\n",
    "        temp.drop(columns=['StockPrice_x', 'StockPrice_y'], inplace=True, errors='ignore')\n",
    "\n",
    "        temp['Return'] = temp['StockPrice'].pct_change().fillna(0)\n",
    "\n",
    "        temp['Position'] = 0\n",
    "        holding = False\n",
    "        for i in range(1, len(temp)):\n",
    "            if temp.loc[i-1, 'Signal'] == 1:\n",
    "                holding = True\n",
    "            elif temp.loc[i-1, 'Signal'] == -1:\n",
    "                holding = False\n",
    "            temp.loc[i, 'Position'] = 1 if holding else 0\n",
    "\n",
    "    \n",
    "        temp['Strategy_Return'] = temp['Return'] * temp['Position']\n",
    "        temp['Cumulative_Market'] = (1 + temp['Return']).cumprod()\n",
    "        temp['Cumulative_Strategy'] = (1 + temp['Strategy_Return']).cumprod()\n",
    "\n",
    "        roi = temp['Cumulative_Strategy'].iloc[-1] - 1\n",
    "        max_dd = calculate_max_drawdown(temp['Cumulative_Strategy'].values)\n",
    "        sharpe = calculate_sharpe_ratio(temp['Strategy_Return'].values)\n",
    "        roi_to_mdd = roi / abs(max_dd) if max_dd != 0 else np.nan\n",
    "\n",
    "        results.append({\n",
    "            'TickerName': ticker,\n",
    "            'RollingWindow': window,\n",
    "            'ROI': roi,\n",
    "            'MaxDrawdown': max_dd,\n",
    "            'SharpeRatio': sharpe,\n",
    "            'ROI_to_MDD': roi_to_mdd\n",
    "        })\n",
    "\n",
    "print(\"Backtest Strategy added\")"
   ]
  },
  {
   "cell_type": "code",
   "execution_count": 23,
   "id": "42c030ae",
   "metadata": {},
   "outputs": [
    {
     "name": "stdout",
     "output_type": "stream",
     "text": [
      "Backtesting complete and experiment tracking results are saved\n"
     ]
    }
   ],
   "source": [
    "results_df = pd.DataFrame(results)\n",
    "results_df.to_csv(\"analysis_data/experiment_tracking_pe_pb.csv\", index=False)\n",
    "print(\"Backtesting complete and experiment tracking results are saved\")\n",
    "\n"
   ]
  },
  {
   "cell_type": "markdown",
   "id": "4189fab2",
   "metadata": {},
   "source": [
    "Just to check what results are being saved"
   ]
  },
  {
   "cell_type": "code",
   "execution_count": 24,
   "id": "ed6052b7",
   "metadata": {},
   "outputs": [
    {
     "name": "stdout",
     "output_type": "stream",
     "text": [
      "  TickerName  RollingWindow       ROI  MaxDrawdown  SharpeRatio  ROI_to_MDD\n",
      "0       AAPL             20  2.183381    -0.395730     3.690176    5.517352\n",
      "1      GOOGL             20  2.069048    -0.102054     4.342670   20.274143\n",
      "2       META             20  3.387564    -0.653914     3.961413    5.180443\n",
      "3       MSFT             20  0.958013    -0.154510     3.503208    6.200340\n",
      "4       TSLA             20  0.000000     0.000000     0.000000         NaN\n"
     ]
    }
   ],
   "source": [
    "\n",
    "print(results_df.head())"
   ]
  }
 ],
 "metadata": {
  "kernelspec": {
   "display_name": "peratio",
   "language": "python",
   "name": "python3"
  },
  "language_info": {
   "codemirror_mode": {
    "name": "ipython",
    "version": 3
   },
   "file_extension": ".py",
   "mimetype": "text/x-python",
   "name": "python",
   "nbconvert_exporter": "python",
   "pygments_lexer": "ipython3",
   "version": "3.12.11"
  }
 },
 "nbformat": 4,
 "nbformat_minor": 5
}
