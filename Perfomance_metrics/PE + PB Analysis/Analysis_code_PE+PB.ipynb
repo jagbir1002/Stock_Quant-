{
 "cells": [
  {
   "cell_type": "code",
   "execution_count": 13,
   "id": "23bf1a9a",
   "metadata": {},
   "outputs": [],
   "source": [
    "import pandas as pd"
   ]
  },
  {
   "cell_type": "code",
   "execution_count": 14,
   "id": "60827ca9",
   "metadata": {},
   "outputs": [],
   "source": [
    "\n",
    "\n",
    "pe_file = r\"C:\\Users\\surji\\Desktop\\Quant_Poject\\Perfomance_metrics\\data\\pe_ratio_data.csv\"\n",
    "pb_file = r\"C:\\Users\\surji\\Desktop\\Quant_Poject\\Perfomance_metrics\\data\\pb_ratio_data.csv\"\n",
    "\n",
    "df_pe = pd.read_csv(pe_file, parse_dates=['Date'])\n",
    "df_pb = pd.read_csv(pb_file, parse_dates=['Date'])\n",
    "\n",
    "df_pe = df_pe.sort_values(['TickerName', 'Date']).reset_index(drop=True)\n",
    "df_pb = df_pb.sort_values(['TickerName', 'Date']).reset_index(drop=True)\n",
    "\n",
    "df = pd.merge(df_pe, df_pb, on=['Date', 'TickerName'], how='inner')\n"
   ]
  },
  {
   "cell_type": "markdown",
   "id": "f13b5797",
   "metadata": {},
   "source": [
    "Rolling windows that I am testing for are [20, 60, 120, 180, 250, 500]\n"
   ]
  },
  {
   "cell_type": "code",
   "execution_count": 15,
   "id": "e0cf458f",
   "metadata": {},
   "outputs": [],
   "source": [
    "tickers = df['TickerName'].unique()\n",
    "rolling_windows = [20, 60, 120, 180, 250, 500]\n"
   ]
  },
  {
   "cell_type": "code",
   "execution_count": 16,
   "id": "284e3eab",
   "metadata": {},
   "outputs": [
    {
     "name": "stdout",
     "output_type": "stream",
     "text": [
      "Processing rolling window: 20\n",
      "Processing rolling window: 60\n",
      "Processing rolling window: 120\n",
      "Processing rolling window: 180\n",
      "Processing rolling window: 250\n",
      "Processing rolling window: 500\n"
     ]
    }
   ],
   "source": [
    "\n",
    "experiment_results = []\n",
    "\n",
    "epsilon = 0.02\n",
    "\n",
    "for window in rolling_windows:\n",
    "    print(f\"Processing rolling window: {window}\")\n",
    "\n",
    "    df_window = df.copy()\n",
    "\n",
    "    # Smooth PE and PB\n",
    "    df_window['PE_smooth'] = df_window.groupby('TickerName')['PE'].transform(lambda x: x.rolling(window=3, min_periods=1).mean())\n",
    "    df_window['PB_smooth'] = df_window.groupby('TickerName')['PB'].transform(lambda x: x.rolling(window=3, min_periods=1).mean())\n",
    "\n",
    "    # Rolling quantiles with min_periods=1 for faster calculation\n",
    "    df_window['Rolling_P10_PE'] = df_window.groupby('TickerName')['PE_smooth'].transform(\n",
    "        lambda x: x.rolling(window=window, min_periods=1).quantile(0.10)\n",
    "    )\n",
    "    df_window['Rolling_P90_PE'] = df_window.groupby('TickerName')['PE_smooth'].transform(\n",
    "        lambda x: x.rolling(window=window, min_periods=1).quantile(0.90)\n",
    "    )\n",
    "\n",
    "    df_window['Rolling_P10_PB'] = df_window.groupby('TickerName')['PB_smooth'].transform(\n",
    "        lambda x: x.rolling(window=window, min_periods=1).quantile(0.10)\n",
    "    )\n",
    "    df_window['Rolling_P90_PB'] = df_window.groupby('TickerName')['PB_smooth'].transform(\n",
    "        lambda x: x.rolling(window=window, min_periods=1).quantile(0.90)\n",
    "    )\n",
    "\n",
    "    df_window['Signal'] = 0\n",
    "    df_window.loc[\n",
    "        (df_window['PE_smooth'] <= df_window['Rolling_P10_PE'] + epsilon) |\n",
    "        (df_window['PB_smooth'] <= df_window['Rolling_P10_PB'] + epsilon),\n",
    "        'Signal'\n",
    "    ] = 1\n",
    "\n",
    "    df_window.loc[\n",
    "        (df_window['PE_smooth'] >= df_window['Rolling_P90_PE'] - epsilon) |\n",
    "        (df_window['PB_smooth'] >= df_window['Rolling_P90_PB'] - epsilon),\n",
    "        'Signal'\n",
    "    ] = -1\n",
    "\n",
    "    df_window['RollingWindow'] = window\n",
    "    experiment_results.append(df_window)\n"
   ]
  },
  {
   "cell_type": "code",
   "execution_count": 17,
   "id": "ee231fca",
   "metadata": {},
   "outputs": [
    {
     "name": "stdout",
     "output_type": "stream",
     "text": [
      "PE + PB rolling analysis file saved\n",
      "File created for PE + PB experiment tracking\n"
     ]
    }
   ],
   "source": [
    "\n",
    "df_combined = pd.concat(experiment_results, ignore_index=True)\n",
    "df_combined.to_csv(\"analysis_data/pe_pb_ratio_rolling_analysis.csv\", index=False)\n",
    "print(\"PE + PB rolling analysis file saved\")\n",
    "\n",
    "experiment_tracking = pd.DataFrame(columns=[\n",
    "    'TickerName', 'RollingWindow', 'ROI', 'MaxDrawdown', 'SharpeRatio', 'ROI_to_MDD'\n",
    "])\n",
    "experiment_tracking.to_csv(\"analysis_data/experiment_tracking_pe_pb.csv\", index=False)\n",
    "print(\"File created for PE + PB experiment tracking\")"
   ]
  }
 ],
 "metadata": {
  "kernelspec": {
   "display_name": "peratio",
   "language": "python",
   "name": "python3"
  },
  "language_info": {
   "codemirror_mode": {
    "name": "ipython",
    "version": 3
   },
   "file_extension": ".py",
   "mimetype": "text/x-python",
   "name": "python",
   "nbconvert_exporter": "python",
   "pygments_lexer": "ipython3",
   "version": "3.12.11"
  }
 },
 "nbformat": 4,
 "nbformat_minor": 5
}
