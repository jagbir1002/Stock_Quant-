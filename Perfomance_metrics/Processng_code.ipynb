{
 "cells": [
  {
   "cell_type": "code",
   "execution_count": 27,
   "id": "f8e0604d",
   "metadata": {},
   "outputs": [],
   "source": [
    "import bs4\n",
    "import pandas as pd\n",
    "import requests\n",
    "from io import StringIO\n",
    "import time\n",
    "import os\n",
    "import random\n",
    "\n",
    "\n"
   ]
  },
  {
   "cell_type": "code",
   "execution_count": 28,
   "id": "a4f89cb4",
   "metadata": {},
   "outputs": [],
   "source": [
    "headers = {\n",
    "    'User-Agent': 'Mozilla/5.0 (Windows NT 10.0; Win64; x64) AppleWebKit/537.36 (KHTML, like Gecko) Chrome/91.0.4472.124 Safari/537.36',\n",
    "    'Accept': 'text/html,application/xhtml+xml,application/xml;q=0.9,image/webp,*/*;q=0.8',\n",
    "    'Accept-Language': 'en-US,en;q=0.5',\n",
    "    'Accept-Encoding': 'gzip, deflate',\n",
    "    'Connection': 'keep-alive',\n",
    "    'Upgrade-Insecure-Requests': '1',\n",
    "}\n",
    "\n",
    "tickers = {\n",
    "    'NVDA': 'nvidia',\n",
    "    'AAPL': 'apple',\n",
    "    'MSFT': 'microsoft',\n",
    "    'GOOGL': 'alphabet',\n",
    "    'AMZN': 'amazon',\n",
    "    'META': 'meta-platforms',\n",
    "    'TSLA': 'tesla'\n",
    "}"
   ]
  },
  {
   "cell_type": "code",
   "execution_count": 29,
   "id": "e2ae1c94",
   "metadata": {},
   "outputs": [],
   "source": [
    "def fetch_table(url):\n",
    "    try:\n",
    "        resp = requests.get(url, headers=headers, timeout=10)\n",
    "        resp.raise_for_status()\n",
    "        soup = bs4.BeautifulSoup(resp.text, \"html.parser\")\n",
    "        tables = soup.find_all(\"table\")\n",
    "        if not tables:\n",
    "            raise ValueError(\"No tables found on the page.\")\n",
    "        df = pd.read_html(StringIO(str(tables[0])))[0]\n",
    "        if isinstance(df.columns, pd.MultiIndex):\n",
    "            df.columns = df.columns.droplevel(0)\n",
    "        df.columns = [col.strip() for col in df.columns]  # clean spaces\n",
    "        return df\n",
    "    except Exception as e:\n",
    "        print(f\"[ERROR] Failed to fetch data from {url}: {e}\")\n",
    "        return None\n",
    "\n",
    "pe_data = []\n",
    "pb_data = []"
   ]
  },
  {
   "cell_type": "markdown",
   "id": "984223ba",
   "metadata": {},
   "source": [
    "Here same logic has been used to extract the PB ratio data from Marcotrends."
   ]
  },
  {
   "cell_type": "code",
   "execution_count": 30,
   "id": "66ee1635",
   "metadata": {},
   "outputs": [
    {
     "name": "stdout",
     "output_type": "stream",
     "text": [
      "\n",
      "All data extraction complete.\n"
     ]
    }
   ],
   "source": [
    "for symbol, name in tickers.items():\n",
    "    url_pe = f\"https://www.macrotrends.net/stocks/charts/{symbol}/{name}/pe-ratio\"\n",
    "    df_pe = fetch_table(url_pe)\n",
    "\n",
    "    if df_pe is not None and not df_pe.empty:\n",
    "        expected_cols_pe = {'Date', 'Stock Price', 'TTM Net EPS', 'PE Ratio'}\n",
    "        if not expected_cols_pe.issubset(df_pe.columns):\n",
    "            print(\"Error\")\n",
    "        else:\n",
    "            try:\n",
    "                df_pe = df_pe.rename(columns={\n",
    "                    'Date': 'Date',\n",
    "                    'Stock Price': 'StockPrice',\n",
    "                    'TTM Net EPS': 'NetEPS',\n",
    "                    'PE Ratio': 'PE'\n",
    "                })\n",
    "                df_pe['Date'] = pd.to_datetime(df_pe['Date'])\n",
    "                df_pe['TickerName'] = symbol\n",
    "                df_pe = df_pe[['Date', 'TickerName', 'StockPrice', 'NetEPS', 'PE']]\n",
    "                pe_data.append(df_pe)\n",
    "            \n",
    "            except Exception as e:\n",
    "                print(\"Error\")\n",
    "    else:\n",
    "        print(\"Data not found\")\n",
    "\n",
    "    \n",
    "    time.sleep(random.uniform(5, 10))  # sleep between 5 to 10 seconds\n",
    "\n",
    "\n",
    "    # PB Ratio\n",
    "    url_pb = f\"https://www.macrotrends.net/stocks/charts/{symbol}/{name}/price-book\"\n",
    "    df_pb = fetch_table(url_pb)\n",
    "\n",
    "    if df_pb is not None and not df_pb.empty:\n",
    "        expected_cols_pb = {'Date', 'Stock Price', 'Book Value per Share', 'Price to Book Ratio'}\n",
    "        if not expected_cols_pb.issubset(df_pb.columns):\n",
    "            print(\"Error\")\n",
    "        else:\n",
    "            try:\n",
    "                df_pb = df_pb.rename(columns={\n",
    "                    'Date': 'Date',\n",
    "                    'Stock Price': 'StockPrice',\n",
    "                    'Book Value per Share': 'BookValuePerShare',\n",
    "                    'Price to Book Ratio': 'PB'\n",
    "                })\n",
    "                df_pb['Date'] = pd.to_datetime(df_pb['Date'])\n",
    "                df_pb['TickerName'] = symbol\n",
    "                df_pb = df_pb[['Date', 'TickerName', 'StockPrice', 'BookValuePerShare', 'PB']]\n",
    "                pb_data.append(df_pb)\n",
    "            except Exception as e:\n",
    "                print(\"Error\")\n",
    "    else:\n",
    "        print(\"Data not found\")\n",
    "\n",
    "    time.sleep(random.uniform(5, 10)) \n",
    "\n",
    "print(\"\\nAll data extraction complete.\")"
   ]
  },
  {
   "cell_type": "code",
   "execution_count": 32,
   "id": "f33d1a81",
   "metadata": {},
   "outputs": [
    {
     "name": "stdout",
     "output_type": "stream",
     "text": [
      "PE Ratio data saved\n",
      "PB Rato data saved\n"
     ]
    }
   ],
   "source": [
    "\n",
    "os.makedirs(\"data\", exist_ok=True)\n",
    "\n",
    "if pe_data:\n",
    "    combined_pe_df = pd.concat(pe_data, ignore_index=True).sort_values(['TickerName', 'Date']).reset_index(drop=True)\n",
    "    combined_pe_df.to_csv(\"data/pe_ratio_data.csv\", index=False)\n",
    "    print(\"PE Ratio data saved\")\n",
    "else:\n",
    "    print(\"No data saved.\")\n",
    "\n",
    "if pb_data:\n",
    "    combined_pb_df = pd.concat(pb_data, ignore_index=True).sort_values(['TickerName', 'Date']).reset_index(drop=True)\n",
    "    combined_pb_df.to_csv(\"data/pb_ratio_data.csv\", index=False)\n",
    "    print(\"PB Rato data saved\")\n",
    "else:\n",
    "    print(\"No data saved.\")\n",
    "\n",
    "\n"
   ]
  }
 ],
 "metadata": {
  "kernelspec": {
   "display_name": "peratio",
   "language": "python",
   "name": "python3"
  },
  "language_info": {
   "codemirror_mode": {
    "name": "ipython",
    "version": 3
   },
   "file_extension": ".py",
   "mimetype": "text/x-python",
   "name": "python",
   "nbconvert_exporter": "python",
   "pygments_lexer": "ipython3",
   "version": "3.12.11"
  }
 },
 "nbformat": 4,
 "nbformat_minor": 5
}
