{
 "cells": [
  {
   "cell_type": "code",
   "execution_count": 7,
   "id": "f8e0604d",
   "metadata": {},
   "outputs": [],
   "source": [
    "import bs4\n",
    "import pandas as pd\n",
    "import requests\n",
    "from io import StringIO\n",
    "import time\n",
    "import os"
   ]
  },
  {
   "cell_type": "code",
   "execution_count": 8,
   "id": "a4f89cb4",
   "metadata": {},
   "outputs": [],
   "source": [
    "headers = {\n",
    "    'User-Agent': 'Mozilla/5.0 (Windows NT 10.0; Win64; x64) AppleWebKit/537.36 (KHTML, like Gecko) Chrome/91.0.4472.124 Safari/537.36',\n",
    "    'Accept': 'text/html,application/xhtml+xml,application/xml;q=0.9,image/webp,*/*;q=0.8',\n",
    "    'Accept-Language': 'en-US,en;q=0.5',\n",
    "    'Accept-Encoding': 'gzip, deflate',\n",
    "    'Connection': 'keep-alive',\n",
    "    'Upgrade-Insecure-Requests': '1',\n",
    "}\n",
    "\n",
    "tickers = {\n",
    "    'AAPL': 'apple',\n",
    "    'MSFT': 'microsoft',\n",
    "    'GOOGL': 'alphabet',\n",
    "    'TSLA': 'tesla',\n",
    "    'META': 'meta-platforms',\n",
    "    'NVDA': 'nvidia-corp',\n",
    "}\n",
    "\n"
   ]
  },
  {
   "cell_type": "code",
   "execution_count": 9,
   "id": "e2ae1c94",
   "metadata": {},
   "outputs": [],
   "source": [
    "def fetch_table(url):\n",
    "    try:\n",
    "        resp = requests.get(url, headers=headers)\n",
    "        soup = bs4.BeautifulSoup(resp.text, \"html.parser\")\n",
    "        table = soup.find_all(\"table\")[0]\n",
    "        df = pd.read_html(StringIO(str(table)))[0]\n",
    "        df.columns = df.columns.droplevel(0)\n",
    "        return df\n",
    "    except Exception as e:\n",
    "        print(f\"Failed to fetch data from {url}: {e}\")\n",
    "        return None\n",
    "\n",
    "pe_data = []\n",
    "pb_data = []\n",
    "\n"
   ]
  },
  {
   "cell_type": "markdown",
   "id": "984223ba",
   "metadata": {},
   "source": [
    "Here same logic has been used to extract the PB ratio data from Marcotrends."
   ]
  },
  {
   "cell_type": "code",
   "execution_count": 10,
   "id": "66ee1635",
   "metadata": {},
   "outputs": [
    {
     "name": "stdout",
     "output_type": "stream",
     "text": [
      "Failed to fetch data from https://www.macrotrends.net/stocks/charts/NVDA/nvidia-corp/pe-ratio: list index out of range\n",
      "Failed PE for NVDA\n",
      "Failed to fetch data from https://www.macrotrends.net/stocks/charts/NVDA/nvidia-corp/price-book: list index out of range\n",
      "Failed PB for NVDA\n",
      "Data extraction complete.\n"
     ]
    }
   ],
   "source": [
    "\n",
    "for symbol, name in tickers.items():\n",
    "\n",
    "    url_pe = f\"https://www.macrotrends.net/stocks/charts/{symbol}/{name}/pe-ratio\"\n",
    "    df_pe = fetch_table(url_pe)\n",
    "    if df_pe is not None:\n",
    "        df_pe = df_pe.rename(columns={\n",
    "            'Date': 'Date',\n",
    "            'Stock Price': 'StockPrice',\n",
    "            'TTM Net EPS': 'NetEPS',\n",
    "            'PE Ratio': 'PE'\n",
    "        })\n",
    "        df_pe['Date'] = pd.to_datetime(df_pe['Date'])\n",
    "        df_pe['TickerName'] = symbol\n",
    "        df_pe = df_pe[['Date', 'TickerName', 'StockPrice', 'NetEPS', 'PE']]\n",
    "        pe_data.append(df_pe)\n",
    "    else:\n",
    "        print(f\"Failed PE for {symbol}\")\n",
    "\n",
    "    time.sleep(1.5)  \n",
    "\n",
    "    url_pb = f\"https://www.macrotrends.net/stocks/charts/{symbol}/{name}/price-book\"\n",
    "    df_pb = fetch_table(url_pb)\n",
    "    if df_pb is not None:\n",
    "        df_pb = df_pb.rename(columns={\n",
    "            'Date': 'Date',\n",
    "            'Stock Price': 'StockPrice',\n",
    "            'Book Value per Share': 'BookValuePerShare',\n",
    "            'Price to Book Ratio': 'PB'\n",
    "        })\n",
    "        df_pb['Date'] = pd.to_datetime(df_pb['Date'])\n",
    "        df_pb['TickerName'] = symbol\n",
    "        df_pb = df_pb[['Date', 'TickerName', 'StockPrice', 'BookValuePerShare', 'PB']]\n",
    "        pb_data.append(df_pb)\n",
    "    else:\n",
    "        print(f\"Failed PB for {symbol}\")\n",
    "\n",
    "    time.sleep(1.5)\n",
    "\n",
    "print(\"Data extraction complete.\")"
   ]
  },
  {
   "cell_type": "code",
   "execution_count": 11,
   "id": "f33d1a81",
   "metadata": {},
   "outputs": [],
   "source": [
    "combined_pe_df = pd.concat(pe_data, ignore_index=True)\n",
    "combined_pe_df = combined_pe_df.sort_values(['TickerName', 'Date']).reset_index(drop=True)\n",
    "\n",
    "combined_pb_df = pd.concat(pb_data, ignore_index=True)\n",
    "combined_pb_df = combined_pb_df.sort_values(['TickerName', 'Date']).reset_index(drop=True)"
   ]
  },
  {
   "cell_type": "code",
   "execution_count": 12,
   "id": "e84cf1b4",
   "metadata": {},
   "outputs": [
    {
     "name": "stdout",
     "output_type": "stream",
     "text": [
      "PE Ratio data saved \n",
      "PB Ratio data saved \n"
     ]
    }
   ],
   "source": [
    "os.makedirs(\"data\", exist_ok=True)\n",
    "combined_pe_df.to_csv(\"data/pe_ratio_data.csv\", index=False)\n",
    "combined_pb_df.to_csv(\"data/pb_ratio_data.csv\", index=False)\n",
    "\n",
    "print(\"PE Ratio data saved \")\n",
    "print(\"PB Ratio data saved \")\n"
   ]
  }
 ],
 "metadata": {
  "kernelspec": {
   "display_name": "peratio",
   "language": "python",
   "name": "python3"
  },
  "language_info": {
   "codemirror_mode": {
    "name": "ipython",
    "version": 3
   },
   "file_extension": ".py",
   "mimetype": "text/x-python",
   "name": "python",
   "nbconvert_exporter": "python",
   "pygments_lexer": "ipython3",
   "version": "3.12.11"
  }
 },
 "nbformat": 4,
 "nbformat_minor": 5
}
